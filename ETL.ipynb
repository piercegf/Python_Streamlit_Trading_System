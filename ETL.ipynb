{
 "cells": [
  {
   "cell_type": "markdown",
   "metadata": {},
   "source": [
    "**Extract - Transform - Load**"
   ]
  },
  {
   "cell_type": "markdown",
   "metadata": {},
   "source": [
    "Import neccesary libraries"
   ]
  },
  {
   "cell_type": "code",
   "execution_count": 1,
   "metadata": {},
   "outputs": [],
   "source": [
    "import pandas as pd\n",
    "import simfin as sf\n",
    "from dotenv import load_dotenv\n",
    "import os\n",
    "from sklearn.linear_model import LogisticRegression\n",
    "from sklearn.metrics import accuracy_score, classification_report\n",
    "import pickle\n",
    "import numpy as np"
   ]
  },
  {
   "cell_type": "markdown",
   "metadata": {},
   "source": [
    "Load the CSV Files"
   ]
  },
  {
   "cell_type": "code",
   "execution_count": 2,
   "metadata": {},
   "outputs": [
    {
     "name": "stdout",
     "output_type": "stream",
     "text": [
      "Dataset \"us-companies\" on disk (15 days old).\n",
      "- Loading from disk ... Done!\n",
      "Dataset \"us-shareprices-daily\" on disk (15 days old).\n",
      "- Loading from disk ... "
     ]
    },
    {
     "name": "stderr",
     "output_type": "stream",
     "text": [
      "/Users/alejandroperez/.pyenv/versions/3.10.10/lib/python3.10/site-packages/simfin/load.py:154: FutureWarning: The argument 'date_parser' is deprecated and will be removed in a future version. Please use 'date_format' instead, or read your data in as 'object' dtype and then call 'to_datetime'.\n",
      "  df = pd.read_csv(path, sep=';', header=0,\n",
      "/Users/alejandroperez/.pyenv/versions/3.10.10/lib/python3.10/site-packages/simfin/load.py:154: FutureWarning: The argument 'date_parser' is deprecated and will be removed in a future version. Please use 'date_format' instead, or read your data in as 'object' dtype and then call 'to_datetime'.\n",
      "  df = pd.read_csv(path, sep=';', header=0,\n"
     ]
    },
    {
     "name": "stdout",
     "output_type": "stream",
     "text": [
      "Done!\n"
     ]
    }
   ],
   "source": [
    "load_dotenv()\n",
    "\n",
    "# Get API key and data directory from environment variables\n",
    "api_key = os.getenv(\"SIMFIN_API_KEY\")\n",
    "data_dir = os.getenv(\"SIMFIN_DATA_DIR\")\n",
    "\n",
    "# Set API key and data directory for SimFin\n",
    "sf.set_api_key(api_key)\n",
    "sf.set_data_dir(data_dir)\n",
    "\n",
    "# Download the data from SimFin and load into a Pandas DataFrame\n",
    "df_companies = sf.load_companies(market='us')\n",
    "df_shareprices = sf.load_shareprices(variant='daily')"
   ]
  },
  {
   "cell_type": "code",
   "execution_count": 3,
   "metadata": {},
   "outputs": [],
   "source": [
    "# Going with bulk download (local) for now to see structure difference\n",
    "\n",
    "# Assigning it again with separator to fix structure issues\n",
    "\n",
    "df_companies = pd.read_csv('/Users/alejandroperez/Desktop/Python_II_Final_Project/~datasets/us-companies.csv', sep=\";\")\n",
    "df_shareprices = pd.read_csv('/Users/alejandroperez/Desktop/Python_II_Final_Project/~datasets/us-shareprices-daily.csv', sep=\";\")"
   ]
  },
  {
   "cell_type": "code",
   "execution_count": null,
   "metadata": {},
   "outputs": [],
   "source": [
    "# Define the tickers we want to focus on - Apple, Microsoft, Amazon, Tesla, and Meta\n",
    "\n",
    "top_tickers = ['AAPL', 'MSFT', 'AMZN', 'TSLA', 'META']"
   ]
  },
  {
   "cell_type": "code",
   "execution_count": 5,
   "metadata": {},
   "outputs": [],
   "source": [
    "# Filter for tickers of choice\n",
    "\n",
    "df_companies = df_companies[df_companies['Ticker'].isin(top_tickers)]\n",
    "df_shareprices = df_shareprices[df_shareprices['Ticker'].isin(top_tickers)]"
   ]
  },
  {
   "cell_type": "markdown",
   "metadata": {},
   "source": [
    "Inspect dataframes"
   ]
  },
  {
   "cell_type": "code",
   "execution_count": 6,
   "metadata": {},
   "outputs": [
    {
     "name": "stdout",
     "output_type": "stream",
     "text": [
      "Companies DataFrame Head:\n"
     ]
    },
    {
     "data": {
      "text/html": [
       "<div>\n",
       "<style scoped>\n",
       "    .dataframe tbody tr th:only-of-type {\n",
       "        vertical-align: middle;\n",
       "    }\n",
       "\n",
       "    .dataframe tbody tr th {\n",
       "        vertical-align: top;\n",
       "    }\n",
       "\n",
       "    .dataframe thead th {\n",
       "        text-align: right;\n",
       "    }\n",
       "</style>\n",
       "<table border=\"1\" class=\"dataframe\">\n",
       "  <thead>\n",
       "    <tr style=\"text-align: right;\">\n",
       "      <th></th>\n",
       "      <th>Ticker</th>\n",
       "      <th>SimFinId</th>\n",
       "      <th>Company Name</th>\n",
       "      <th>IndustryId</th>\n",
       "      <th>ISIN</th>\n",
       "      <th>End of financial year (month)</th>\n",
       "      <th>Number Employees</th>\n",
       "      <th>Business Summary</th>\n",
       "      <th>Market</th>\n",
       "      <th>CIK</th>\n",
       "      <th>Main Currency</th>\n",
       "    </tr>\n",
       "  </thead>\n",
       "  <tbody>\n",
       "    <tr>\n",
       "      <th>90</th>\n",
       "      <td>AAPL</td>\n",
       "      <td>111052</td>\n",
       "      <td>APPLE INC</td>\n",
       "      <td>101001.0</td>\n",
       "      <td>US0378331005</td>\n",
       "      <td>9.0</td>\n",
       "      <td>147000.0</td>\n",
       "      <td>Apple Inc is an American multinational technol...</td>\n",
       "      <td>us</td>\n",
       "      <td>320193.0</td>\n",
       "      <td>USD</td>\n",
       "    </tr>\n",
       "    <tr>\n",
       "      <th>412</th>\n",
       "      <td>AMZN</td>\n",
       "      <td>62747</td>\n",
       "      <td>AMAZON COM INC</td>\n",
       "      <td>103002.0</td>\n",
       "      <td>US0231351067</td>\n",
       "      <td>12.0</td>\n",
       "      <td>1298000.0</td>\n",
       "      <td>Amazon.com Inc is an online retailer. The Comp...</td>\n",
       "      <td>us</td>\n",
       "      <td>1018724.0</td>\n",
       "      <td>USD</td>\n",
       "    </tr>\n",
       "    <tr>\n",
       "      <th>3505</th>\n",
       "      <td>META</td>\n",
       "      <td>121021</td>\n",
       "      <td>Meta Platforms, Inc.</td>\n",
       "      <td>101002.0</td>\n",
       "      <td>US30303M1027</td>\n",
       "      <td>12.0</td>\n",
       "      <td>58604.0</td>\n",
       "      <td>Facebook Inc is the world\\'s largest online so...</td>\n",
       "      <td>us</td>\n",
       "      <td>1326801.0</td>\n",
       "      <td>USD</td>\n",
       "    </tr>\n",
       "    <tr>\n",
       "      <th>3663</th>\n",
       "      <td>MSFT</td>\n",
       "      <td>59265</td>\n",
       "      <td>MICROSOFT CORP</td>\n",
       "      <td>101003.0</td>\n",
       "      <td>US5949181045</td>\n",
       "      <td>6.0</td>\n",
       "      <td>166475.0</td>\n",
       "      <td>Microsoft Corp is a technology company. It dev...</td>\n",
       "      <td>us</td>\n",
       "      <td>789019.0</td>\n",
       "      <td>USD</td>\n",
       "    </tr>\n",
       "    <tr>\n",
       "      <th>5492</th>\n",
       "      <td>TSLA</td>\n",
       "      <td>56317</td>\n",
       "      <td>Tesla</td>\n",
       "      <td>103005.0</td>\n",
       "      <td>US88160R1014</td>\n",
       "      <td>12.0</td>\n",
       "      <td>70757.0</td>\n",
       "      <td>Tesla Motors, Inc., incorporated on July 1, 20...</td>\n",
       "      <td>us</td>\n",
       "      <td>1318605.0</td>\n",
       "      <td>USD</td>\n",
       "    </tr>\n",
       "  </tbody>\n",
       "</table>\n",
       "</div>"
      ],
      "text/plain": [
       "     Ticker  SimFinId          Company Name  IndustryId          ISIN  \\\n",
       "90     AAPL    111052             APPLE INC    101001.0  US0378331005   \n",
       "412    AMZN     62747        AMAZON COM INC    103002.0  US0231351067   \n",
       "3505   META    121021  Meta Platforms, Inc.    101002.0  US30303M1027   \n",
       "3663   MSFT     59265        MICROSOFT CORP    101003.0  US5949181045   \n",
       "5492   TSLA     56317                 Tesla    103005.0  US88160R1014   \n",
       "\n",
       "      End of financial year (month)  Number Employees  \\\n",
       "90                              9.0          147000.0   \n",
       "412                            12.0         1298000.0   \n",
       "3505                           12.0           58604.0   \n",
       "3663                            6.0          166475.0   \n",
       "5492                           12.0           70757.0   \n",
       "\n",
       "                                       Business Summary Market        CIK  \\\n",
       "90    Apple Inc is an American multinational technol...     us   320193.0   \n",
       "412   Amazon.com Inc is an online retailer. The Comp...     us  1018724.0   \n",
       "3505  Facebook Inc is the world\\'s largest online so...     us  1326801.0   \n",
       "3663  Microsoft Corp is a technology company. It dev...     us   789019.0   \n",
       "5492  Tesla Motors, Inc., incorporated on July 1, 20...     us  1318605.0   \n",
       "\n",
       "     Main Currency  \n",
       "90             USD  \n",
       "412            USD  \n",
       "3505           USD  \n",
       "3663           USD  \n",
       "5492           USD  "
      ]
     },
     "execution_count": 6,
     "metadata": {},
     "output_type": "execute_result"
    }
   ],
   "source": [
    "print(\"Companies DataFrame Head:\")\n",
    "df_companies.head()"
   ]
  },
  {
   "cell_type": "code",
   "execution_count": 7,
   "metadata": {},
   "outputs": [
    {
     "name": "stdout",
     "output_type": "stream",
     "text": [
      "Shareprices DataFrame Head:\n"
     ]
    },
    {
     "data": {
      "text/html": [
       "<div>\n",
       "<style scoped>\n",
       "    .dataframe tbody tr th:only-of-type {\n",
       "        vertical-align: middle;\n",
       "    }\n",
       "\n",
       "    .dataframe tbody tr th {\n",
       "        vertical-align: top;\n",
       "    }\n",
       "\n",
       "    .dataframe thead th {\n",
       "        text-align: right;\n",
       "    }\n",
       "</style>\n",
       "<table border=\"1\" class=\"dataframe\">\n",
       "  <thead>\n",
       "    <tr style=\"text-align: right;\">\n",
       "      <th></th>\n",
       "      <th>Ticker</th>\n",
       "      <th>SimFinId</th>\n",
       "      <th>Date</th>\n",
       "      <th>Open</th>\n",
       "      <th>High</th>\n",
       "      <th>Low</th>\n",
       "      <th>Close</th>\n",
       "      <th>Adj. Close</th>\n",
       "      <th>Volume</th>\n",
       "      <th>Dividend</th>\n",
       "      <th>Shares Outstanding</th>\n",
       "    </tr>\n",
       "  </thead>\n",
       "  <tbody>\n",
       "    <tr>\n",
       "      <th>14269</th>\n",
       "      <td>AAPL</td>\n",
       "      <td>111052</td>\n",
       "      <td>2019-04-08</td>\n",
       "      <td>49.10</td>\n",
       "      <td>50.06</td>\n",
       "      <td>49.09</td>\n",
       "      <td>50.02</td>\n",
       "      <td>47.93</td>\n",
       "      <td>103526788</td>\n",
       "      <td>NaN</td>\n",
       "      <td>1.842914e+10</td>\n",
       "    </tr>\n",
       "    <tr>\n",
       "      <th>14270</th>\n",
       "      <td>AAPL</td>\n",
       "      <td>111052</td>\n",
       "      <td>2019-04-09</td>\n",
       "      <td>50.08</td>\n",
       "      <td>50.71</td>\n",
       "      <td>49.81</td>\n",
       "      <td>49.88</td>\n",
       "      <td>47.79</td>\n",
       "      <td>143072948</td>\n",
       "      <td>NaN</td>\n",
       "      <td>1.842914e+10</td>\n",
       "    </tr>\n",
       "    <tr>\n",
       "      <th>14271</th>\n",
       "      <td>AAPL</td>\n",
       "      <td>111052</td>\n",
       "      <td>2019-04-10</td>\n",
       "      <td>49.67</td>\n",
       "      <td>50.19</td>\n",
       "      <td>49.55</td>\n",
       "      <td>50.16</td>\n",
       "      <td>48.06</td>\n",
       "      <td>86781152</td>\n",
       "      <td>NaN</td>\n",
       "      <td>1.842914e+10</td>\n",
       "    </tr>\n",
       "    <tr>\n",
       "      <th>14272</th>\n",
       "      <td>AAPL</td>\n",
       "      <td>111052</td>\n",
       "      <td>2019-04-11</td>\n",
       "      <td>50.21</td>\n",
       "      <td>50.25</td>\n",
       "      <td>49.61</td>\n",
       "      <td>49.74</td>\n",
       "      <td>47.66</td>\n",
       "      <td>83603232</td>\n",
       "      <td>NaN</td>\n",
       "      <td>1.842914e+10</td>\n",
       "    </tr>\n",
       "    <tr>\n",
       "      <th>14273</th>\n",
       "      <td>AAPL</td>\n",
       "      <td>111052</td>\n",
       "      <td>2019-04-12</td>\n",
       "      <td>49.80</td>\n",
       "      <td>50.03</td>\n",
       "      <td>49.05</td>\n",
       "      <td>49.72</td>\n",
       "      <td>47.64</td>\n",
       "      <td>111042672</td>\n",
       "      <td>NaN</td>\n",
       "      <td>1.842914e+10</td>\n",
       "    </tr>\n",
       "  </tbody>\n",
       "</table>\n",
       "</div>"
      ],
      "text/plain": [
       "      Ticker  SimFinId        Date   Open   High    Low  Close  Adj. Close  \\\n",
       "14269   AAPL    111052  2019-04-08  49.10  50.06  49.09  50.02       47.93   \n",
       "14270   AAPL    111052  2019-04-09  50.08  50.71  49.81  49.88       47.79   \n",
       "14271   AAPL    111052  2019-04-10  49.67  50.19  49.55  50.16       48.06   \n",
       "14272   AAPL    111052  2019-04-11  50.21  50.25  49.61  49.74       47.66   \n",
       "14273   AAPL    111052  2019-04-12  49.80  50.03  49.05  49.72       47.64   \n",
       "\n",
       "          Volume  Dividend  Shares Outstanding  \n",
       "14269  103526788       NaN        1.842914e+10  \n",
       "14270  143072948       NaN        1.842914e+10  \n",
       "14271   86781152       NaN        1.842914e+10  \n",
       "14272   83603232       NaN        1.842914e+10  \n",
       "14273  111042672       NaN        1.842914e+10  "
      ]
     },
     "execution_count": 7,
     "metadata": {},
     "output_type": "execute_result"
    }
   ],
   "source": [
    "print(\"Shareprices DataFrame Head:\")\n",
    "df_shareprices.head()"
   ]
  },
  {
   "cell_type": "code",
   "execution_count": 8,
   "metadata": {},
   "outputs": [
    {
     "name": "stdout",
     "output_type": "stream",
     "text": [
      "\n",
      "Companies DataFrame Missing Values:\n"
     ]
    },
    {
     "data": {
      "text/plain": [
       "Ticker                           0\n",
       "SimFinId                         0\n",
       "Company Name                     0\n",
       "IndustryId                       0\n",
       "ISIN                             0\n",
       "End of financial year (month)    0\n",
       "Number Employees                 0\n",
       "Business Summary                 0\n",
       "Market                           0\n",
       "CIK                              0\n",
       "Main Currency                    0\n",
       "dtype: int64"
      ]
     },
     "execution_count": 8,
     "metadata": {},
     "output_type": "execute_result"
    }
   ],
   "source": [
    "print(\"\\nCompanies DataFrame Missing Values:\")\n",
    "df_companies.isnull().sum()"
   ]
  },
  {
   "cell_type": "code",
   "execution_count": 9,
   "metadata": {},
   "outputs": [
    {
     "name": "stdout",
     "output_type": "stream",
     "text": [
      "\n",
      "Companies DataFrame Data Types:\n"
     ]
    },
    {
     "data": {
      "text/plain": [
       "Ticker                            object\n",
       "SimFinId                           int64\n",
       "Company Name                      object\n",
       "IndustryId                       float64\n",
       "ISIN                              object\n",
       "End of financial year (month)    float64\n",
       "Number Employees                 float64\n",
       "Business Summary                  object\n",
       "Market                            object\n",
       "CIK                              float64\n",
       "Main Currency                     object\n",
       "dtype: object"
      ]
     },
     "execution_count": 9,
     "metadata": {},
     "output_type": "execute_result"
    }
   ],
   "source": [
    "print(\"\\nCompanies DataFrame Data Types:\")\n",
    "df_companies.dtypes"
   ]
  },
  {
   "cell_type": "code",
   "execution_count": 10,
   "metadata": {},
   "outputs": [
    {
     "name": "stdout",
     "output_type": "stream",
     "text": [
      "\n",
      "Share Prices DataFrame Missing Values:\n"
     ]
    },
    {
     "data": {
      "text/plain": [
       "Ticker                   0\n",
       "SimFinId                 0\n",
       "Date                     0\n",
       "Open                     0\n",
       "High                     0\n",
       "Low                      0\n",
       "Close                    0\n",
       "Adj. Close               0\n",
       "Volume                   0\n",
       "Dividend              6159\n",
       "Shares Outstanding       0\n",
       "dtype: int64"
      ]
     },
     "execution_count": 10,
     "metadata": {},
     "output_type": "execute_result"
    }
   ],
   "source": [
    "print(\"\\nShare Prices DataFrame Missing Values:\")\n",
    "df_shareprices.isnull().sum()"
   ]
  },
  {
   "cell_type": "markdown",
   "metadata": {},
   "source": [
    "We see that Dividend has 6159 missing values (a lot) and we decide to drop it as some tech companies don't even give out dividends."
   ]
  },
  {
   "cell_type": "code",
   "execution_count": 11,
   "metadata": {},
   "outputs": [
    {
     "data": {
      "text/plain": [
       "Ticker                0\n",
       "SimFinId              0\n",
       "Date                  0\n",
       "Open                  0\n",
       "High                  0\n",
       "Low                   0\n",
       "Close                 0\n",
       "Adj. Close            0\n",
       "Volume                0\n",
       "Shares Outstanding    0\n",
       "dtype: int64"
      ]
     },
     "execution_count": 11,
     "metadata": {},
     "output_type": "execute_result"
    }
   ],
   "source": [
    "df_shareprices = df_shareprices.drop(columns=['Dividend'])\n",
    "df_shareprices.isnull().sum()"
   ]
  },
  {
   "cell_type": "code",
   "execution_count": 12,
   "metadata": {},
   "outputs": [
    {
     "name": "stdout",
     "output_type": "stream",
     "text": [
      "\n",
      "Share Prices DataFrame Data Types:\n"
     ]
    },
    {
     "data": {
      "text/plain": [
       "Ticker                 object\n",
       "SimFinId                int64\n",
       "Date                   object\n",
       "Open                  float64\n",
       "High                  float64\n",
       "Low                   float64\n",
       "Close                 float64\n",
       "Adj. Close            float64\n",
       "Volume                  int64\n",
       "Shares Outstanding    float64\n",
       "dtype: object"
      ]
     },
     "execution_count": 12,
     "metadata": {},
     "output_type": "execute_result"
    }
   ],
   "source": [
    "print(\"\\nShare Prices DataFrame Data Types:\")\n",
    "df_shareprices.dtypes"
   ]
  },
  {
   "cell_type": "markdown",
   "metadata": {},
   "source": [
    "We see Date is an object, so we change it to datetime"
   ]
  },
  {
   "cell_type": "code",
   "execution_count": 13,
   "metadata": {},
   "outputs": [
    {
     "name": "stdout",
     "output_type": "stream",
     "text": [
      "Ticker                        object\n",
      "SimFinId                       int64\n",
      "Date                  datetime64[ns]\n",
      "Open                         float64\n",
      "High                         float64\n",
      "Low                          float64\n",
      "Close                        float64\n",
      "Adj. Close                   float64\n",
      "Volume                         int64\n",
      "Shares Outstanding           float64\n",
      "dtype: object\n"
     ]
    }
   ],
   "source": [
    "df_shareprices['Date'] = pd.to_datetime(df_shareprices['Date'])\n",
    "print(df_shareprices.dtypes)  # Check if \"Date\" is now datetime64"
   ]
  },
  {
   "cell_type": "code",
   "execution_count": 14,
   "metadata": {},
   "outputs": [
    {
     "name": "stdout",
     "output_type": "stream",
     "text": [
      "\n",
      "Merged DataFrame Head:\n"
     ]
    },
    {
     "data": {
      "text/html": [
       "<div>\n",
       "<style scoped>\n",
       "    .dataframe tbody tr th:only-of-type {\n",
       "        vertical-align: middle;\n",
       "    }\n",
       "\n",
       "    .dataframe tbody tr th {\n",
       "        vertical-align: top;\n",
       "    }\n",
       "\n",
       "    .dataframe thead th {\n",
       "        text-align: right;\n",
       "    }\n",
       "</style>\n",
       "<table border=\"1\" class=\"dataframe\">\n",
       "  <thead>\n",
       "    <tr style=\"text-align: right;\">\n",
       "      <th></th>\n",
       "      <th>Ticker</th>\n",
       "      <th>SimFinId_price</th>\n",
       "      <th>Date</th>\n",
       "      <th>Open</th>\n",
       "      <th>High</th>\n",
       "      <th>Low</th>\n",
       "      <th>Close</th>\n",
       "      <th>Adj. Close</th>\n",
       "      <th>Volume</th>\n",
       "      <th>Shares Outstanding</th>\n",
       "      <th>SimFinId_company</th>\n",
       "      <th>Company Name</th>\n",
       "      <th>IndustryId</th>\n",
       "      <th>ISIN</th>\n",
       "      <th>End of financial year (month)</th>\n",
       "      <th>Number Employees</th>\n",
       "      <th>Business Summary</th>\n",
       "      <th>Market</th>\n",
       "      <th>CIK</th>\n",
       "      <th>Main Currency</th>\n",
       "    </tr>\n",
       "  </thead>\n",
       "  <tbody>\n",
       "    <tr>\n",
       "      <th>0</th>\n",
       "      <td>AAPL</td>\n",
       "      <td>111052</td>\n",
       "      <td>2019-04-08</td>\n",
       "      <td>49.10</td>\n",
       "      <td>50.06</td>\n",
       "      <td>49.09</td>\n",
       "      <td>50.02</td>\n",
       "      <td>47.93</td>\n",
       "      <td>103526788</td>\n",
       "      <td>1.842914e+10</td>\n",
       "      <td>111052</td>\n",
       "      <td>APPLE INC</td>\n",
       "      <td>101001.0</td>\n",
       "      <td>US0378331005</td>\n",
       "      <td>9.0</td>\n",
       "      <td>147000.0</td>\n",
       "      <td>Apple Inc is an American multinational technol...</td>\n",
       "      <td>us</td>\n",
       "      <td>320193.0</td>\n",
       "      <td>USD</td>\n",
       "    </tr>\n",
       "    <tr>\n",
       "      <th>1</th>\n",
       "      <td>AAPL</td>\n",
       "      <td>111052</td>\n",
       "      <td>2019-04-09</td>\n",
       "      <td>50.08</td>\n",
       "      <td>50.71</td>\n",
       "      <td>49.81</td>\n",
       "      <td>49.88</td>\n",
       "      <td>47.79</td>\n",
       "      <td>143072948</td>\n",
       "      <td>1.842914e+10</td>\n",
       "      <td>111052</td>\n",
       "      <td>APPLE INC</td>\n",
       "      <td>101001.0</td>\n",
       "      <td>US0378331005</td>\n",
       "      <td>9.0</td>\n",
       "      <td>147000.0</td>\n",
       "      <td>Apple Inc is an American multinational technol...</td>\n",
       "      <td>us</td>\n",
       "      <td>320193.0</td>\n",
       "      <td>USD</td>\n",
       "    </tr>\n",
       "    <tr>\n",
       "      <th>2</th>\n",
       "      <td>AAPL</td>\n",
       "      <td>111052</td>\n",
       "      <td>2019-04-10</td>\n",
       "      <td>49.67</td>\n",
       "      <td>50.19</td>\n",
       "      <td>49.55</td>\n",
       "      <td>50.16</td>\n",
       "      <td>48.06</td>\n",
       "      <td>86781152</td>\n",
       "      <td>1.842914e+10</td>\n",
       "      <td>111052</td>\n",
       "      <td>APPLE INC</td>\n",
       "      <td>101001.0</td>\n",
       "      <td>US0378331005</td>\n",
       "      <td>9.0</td>\n",
       "      <td>147000.0</td>\n",
       "      <td>Apple Inc is an American multinational technol...</td>\n",
       "      <td>us</td>\n",
       "      <td>320193.0</td>\n",
       "      <td>USD</td>\n",
       "    </tr>\n",
       "    <tr>\n",
       "      <th>3</th>\n",
       "      <td>AAPL</td>\n",
       "      <td>111052</td>\n",
       "      <td>2019-04-11</td>\n",
       "      <td>50.21</td>\n",
       "      <td>50.25</td>\n",
       "      <td>49.61</td>\n",
       "      <td>49.74</td>\n",
       "      <td>47.66</td>\n",
       "      <td>83603232</td>\n",
       "      <td>1.842914e+10</td>\n",
       "      <td>111052</td>\n",
       "      <td>APPLE INC</td>\n",
       "      <td>101001.0</td>\n",
       "      <td>US0378331005</td>\n",
       "      <td>9.0</td>\n",
       "      <td>147000.0</td>\n",
       "      <td>Apple Inc is an American multinational technol...</td>\n",
       "      <td>us</td>\n",
       "      <td>320193.0</td>\n",
       "      <td>USD</td>\n",
       "    </tr>\n",
       "    <tr>\n",
       "      <th>4</th>\n",
       "      <td>AAPL</td>\n",
       "      <td>111052</td>\n",
       "      <td>2019-04-12</td>\n",
       "      <td>49.80</td>\n",
       "      <td>50.03</td>\n",
       "      <td>49.05</td>\n",
       "      <td>49.72</td>\n",
       "      <td>47.64</td>\n",
       "      <td>111042672</td>\n",
       "      <td>1.842914e+10</td>\n",
       "      <td>111052</td>\n",
       "      <td>APPLE INC</td>\n",
       "      <td>101001.0</td>\n",
       "      <td>US0378331005</td>\n",
       "      <td>9.0</td>\n",
       "      <td>147000.0</td>\n",
       "      <td>Apple Inc is an American multinational technol...</td>\n",
       "      <td>us</td>\n",
       "      <td>320193.0</td>\n",
       "      <td>USD</td>\n",
       "    </tr>\n",
       "  </tbody>\n",
       "</table>\n",
       "</div>"
      ],
      "text/plain": [
       "  Ticker  SimFinId_price       Date   Open   High    Low  Close  Adj. Close  \\\n",
       "0   AAPL          111052 2019-04-08  49.10  50.06  49.09  50.02       47.93   \n",
       "1   AAPL          111052 2019-04-09  50.08  50.71  49.81  49.88       47.79   \n",
       "2   AAPL          111052 2019-04-10  49.67  50.19  49.55  50.16       48.06   \n",
       "3   AAPL          111052 2019-04-11  50.21  50.25  49.61  49.74       47.66   \n",
       "4   AAPL          111052 2019-04-12  49.80  50.03  49.05  49.72       47.64   \n",
       "\n",
       "      Volume  Shares Outstanding  SimFinId_company Company Name  IndustryId  \\\n",
       "0  103526788        1.842914e+10            111052    APPLE INC    101001.0   \n",
       "1  143072948        1.842914e+10            111052    APPLE INC    101001.0   \n",
       "2   86781152        1.842914e+10            111052    APPLE INC    101001.0   \n",
       "3   83603232        1.842914e+10            111052    APPLE INC    101001.0   \n",
       "4  111042672        1.842914e+10            111052    APPLE INC    101001.0   \n",
       "\n",
       "           ISIN  End of financial year (month)  Number Employees  \\\n",
       "0  US0378331005                            9.0          147000.0   \n",
       "1  US0378331005                            9.0          147000.0   \n",
       "2  US0378331005                            9.0          147000.0   \n",
       "3  US0378331005                            9.0          147000.0   \n",
       "4  US0378331005                            9.0          147000.0   \n",
       "\n",
       "                                    Business Summary Market       CIK  \\\n",
       "0  Apple Inc is an American multinational technol...     us  320193.0   \n",
       "1  Apple Inc is an American multinational technol...     us  320193.0   \n",
       "2  Apple Inc is an American multinational technol...     us  320193.0   \n",
       "3  Apple Inc is an American multinational technol...     us  320193.0   \n",
       "4  Apple Inc is an American multinational technol...     us  320193.0   \n",
       "\n",
       "  Main Currency  \n",
       "0           USD  \n",
       "1           USD  \n",
       "2           USD  \n",
       "3           USD  \n",
       "4           USD  "
      ]
     },
     "execution_count": 14,
     "metadata": {},
     "output_type": "execute_result"
    }
   ],
   "source": [
    "df_merged = pd.merge(df_shareprices, df_companies, on='Ticker', how='left', \n",
    "                     suffixes=('_price', '_company'))\n",
    "print(\"\\nMerged DataFrame Head:\")\n",
    "df_merged.head()"
   ]
  },
  {
   "cell_type": "code",
   "execution_count": 15,
   "metadata": {},
   "outputs": [
    {
     "name": "stdout",
     "output_type": "stream",
     "text": [
      "Merged DataFrame saved to /Users/alejandroperez/Desktop/Python_II_Final_Project/~datasets/merged_data.csv\n"
     ]
    }
   ],
   "source": [
    "output_file = '/Users/alejandroperez/Desktop/Python_II_Final_Project/~datasets/merged_data.csv'\n",
    "\n",
    "# Save the merged dataframe as a CSV file without the index.\n",
    "df_merged.to_csv(output_file, index=False)\n",
    "print(f\"Merged DataFrame saved to {output_file}\")\n"
   ]
  }
 ],
 "metadata": {
  "kernelspec": {
   "display_name": "Python 3",
   "language": "python",
   "name": "python3"
  },
  "language_info": {
   "codemirror_mode": {
    "name": "ipython",
    "version": 3
   },
   "file_extension": ".py",
   "mimetype": "text/x-python",
   "name": "python",
   "nbconvert_exporter": "python",
   "pygments_lexer": "ipython3",
   "version": "3.10.10"
  }
 },
 "nbformat": 4,
 "nbformat_minor": 2
}
